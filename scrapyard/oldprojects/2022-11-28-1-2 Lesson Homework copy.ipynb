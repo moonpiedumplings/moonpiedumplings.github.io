{
 "cells": [
  {
   "cell_type": "raw",
   "metadata": {},
   "source": [
    "---\n",
    "aliases:\n",
    "- /Week 13/jupyter/2022/11/28/1-2 Lesson Homework copy\n",
    "categories:\n",
    "- jupyter\n",
    "- Week 13\n",
    "date: '2022-11-28'\n",
    "description: The homework assignment and challenge in our lesson plan\n",
    "output-file: 2022-11-28-1-2 lesson homework copy.html\n",
    "title: 1-2 Lesson and Homework\n",
    "toc: true\n",
    "execute:\n",
    "  freeze: auto\n",
    "\n",
    "---\n",
    "\n"
   ]
  },
  {
   "cell_type": "markdown",
   "metadata": {},
   "source": [
    "## Challenge\n",
    "\n",
    "The list given contains multiple numbers with different values. There are also 2 variables that define the minimum and maximum valid values. Given these variables, output the values that do not fit into the valid range as well as their index values.\n"
   ]
  },
  {
   "cell_type": "code",
   "execution_count": 1,
   "metadata": {},
   "outputs": [],
   "source": [
    "data = [104, 101, 4, 105, 308, 103, 5, 107,\n",
    "        100, 306, 106, 102, 108]    # list of the different numerical values\n",
    "min_valid = 100  # minimum value\n",
    "max_valid = 200  # maximum value"
   ]
  },
  {
   "cell_type": "code",
   "execution_count": 29,
   "metadata": {},
   "outputs": [
    {
     "name": "stdout",
     "output_type": "stream",
     "text": [
      "The format out put is number:place in list. It should be noted that lists in python start at 0. \n",
      "\n",
      "4 : 2\n",
      "308 : 4\n",
      "5 : 6\n",
      "306 : 9\n"
     ]
    }
   ],
   "source": [
    "print(\"The format out put is number:place in list. It should be noted that lists in python start at 0. \\n\")\n",
    "\n",
    "a = 0\n",
    "for number in data:\n",
    "    if number < min_valid or number > max_valid:\n",
    "        print(number,\":\",a)\n",
    "    a +=1"
   ]
  },
  {
   "cell_type": "markdown",
   "metadata": {},
   "source": [
    "## Homework/Hacks\n",
    "\n",
    "The list given contains 4 album names - Welcome to my Nightmare, Bad Company, Nightflight, More Mayhem - and each album contains at least 4 songs within another list. Given this, write a block of code that enables users to input in integer values that correspond to the albums and songs - Welcome to my Nightmare is 1, Bad Company is 2, etc. - Then, a sentence is outputted that says Playing _______ based on which song was chosen using the numbers inputted by the user that corresponds to each song."
   ]
  },
  {
   "cell_type": "code",
   "execution_count": 62,
   "metadata": {},
   "outputs": [],
   "source": [
    "albums = [\n",
    "    (\"Welcome to my Nightmare\", \"Alice Cooper\", 1975,   # First album list\n",
    "     [\n",
    "         (1, \"Welcome to my Nightmare\"),\n",
    "         (2, \"Devil's Food\"),\n",
    "         (3, \"The Black Widow\"),\n",
    "         (4, \"Some Folks\"),\n",
    "         (5, \"Only Women Bleed\"),\n",
    "     ]\n",
    "     ),\n",
    "    (\"Bad Company\", \"Bad Company\", 1974,   # Second album list\n",
    "     [\n",
    "         (1, \"Can't Get Enough\"),\n",
    "         (2, \"Rock Steady\"),\n",
    "         (3, \"Ready for Love\"),\n",
    "         (4, \"Don't Let Me Down\"),\n",
    "         (5, \"Bad Company\"),\n",
    "         (6, \"The Way I Choose\"),\n",
    "         (7, \"Movin' On\"),\n",
    "         (8, \"Seagull\"),\n",
    "     ]\n",
    "     ),\n",
    "    (\"Nightflight\", \"Budgie\", 1981,\n",
    "     [\n",
    "         (1, \"I Turned to Stone\"),\n",
    "         (2, \"Keeping a Rendezvous\"),\n",
    "         (3, \"Reaper of the Glory\"),\n",
    "         (4, \"She Used Me Up\"),\n",
    "     ]\n",
    "     ),\n",
    "    (\"More Mayhem\", \"Imelda May\", 2011,\n",
    "     [\n",
    "         (1, \"Pulling the Rug\"),\n",
    "         (2, \"Psycho\"),\n",
    "         (3, \"Mayhem\"),\n",
    "         (4, \"Kentish Town Waltz\"),\n",
    "     ]\n",
    "     ),\n",
    "]"
   ]
  },
  {
   "cell_type": "code",
   "execution_count": 71,
   "metadata": {},
   "outputs": [
    {
     "name": "stdout",
     "output_type": "stream",
     "text": [
      "1 : Welcome to my Nightmare\n",
      "2 : Bad Company\n",
      "3 : Nightflight\n",
      "4 : More Mayhem\n",
      "[(1, \"Can't Get Enough\"), (2, 'Rock Steady'), (3, 'Ready for Love'), (4, \"Don't Let Me Down\"), (5, 'Bad Company'), (6, 'The Way I Choose'), (7, \"Movin' On\"), (8, 'Seagull')]\n",
      "Now playing Rock Steady\n"
     ]
    }
   ],
   "source": [
    "a = 0\n",
    "for al in albums:\n",
    "    print(a+1,\":\", albums[a][0])\n",
    "    a += 1\n",
    "sel = int(input(\"make your selection\")) - 1\n",
    "print(albums[sel][3])\n",
    "sel2 = int(input(\"select a song:\")) - 1\n",
    "print(\"Now playing\",albums[sel][3][sel2][1])"
   ]
  },
  {
   "cell_type": "code",
   "execution_count": null,
   "metadata": {},
   "outputs": [],
   "source": [
    "1\n",
    "1\n",
    "Playing \"Welcome to my Nightmare\"\n",
    "\n",
    "2\n",
    "2\n",
    "Playing \"Rock Steady\""
   ]
  }
 ],
 "metadata": {
  "kernelspec": {
   "display_name": "Python 3.9.15 ('base')",
   "language": "python",
   "name": "python3"
  },
  "language_info": {
   "codemirror_mode": {
    "name": "ipython",
    "version": 3
   },
   "file_extension": ".py",
   "mimetype": "text/x-python",
   "name": "python",
   "nbconvert_exporter": "python",
   "pygments_lexer": "ipython3",
   "version": "3.9.15"
  },
  "orig_nbformat": 4,
  "vscode": {
   "interpreter": {
    "hash": "586ad1ed5c97141e2437e681efbf1ec0adcd17d830cf5af2ca3d2819e743e158"
   }
  }
 },
 "nbformat": 4,
 "nbformat_minor": 2
}
