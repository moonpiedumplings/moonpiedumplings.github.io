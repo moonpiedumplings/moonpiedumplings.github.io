{
 "cells": [
  {
   "cell_type": "raw",
   "metadata": {},
   "source": [
    "---\n",
    "aliases:\n",
    "- /collegeboard/2022/08/26/pythonquiz\n",
    "author: moonpie\n",
    "categories:\n",
    "- collegeboard\n",
    "date: '2022-08-26'\n",
    "output-file: 2022-08-26-pythonquiz.html\n",
    "tags:\n",
    "- python\n",
    "title: Football Quiz\n",
    "toc: true\n",
    "execute:\n",
    "  freeze: auto\n",
    "\n",
    "---\n",
    "\n"
   ]
  },
  {
   "attachments": {},
   "cell_type": "markdown",
   "metadata": {},
   "source": [
    "# Code"
   ]
  },
  {
   "cell_type": "code",
   "execution_count": 3,
   "metadata": {},
   "outputs": [
    {
     "name": "stdout",
     "output_type": "stream",
     "text": [
      "you are very smart\n",
      "1 / 1\n"
     ]
    }
   ],
   "source": [
    "questions = [\"Is Jeffrey the smartest person alive\"]\n",
    "answers = [\"yes\"]\n",
    "grade = 0\n",
    "a = 0\n",
    "for q in questions:\n",
    "    answer = input(q)\n",
    "    if answer == answers[a]:\n",
    "        print(\"you are very smart\")\n",
    "        grade += 1\n",
    "    else:\n",
    "        print(\"you are dumb\")\n",
    "    a += 1\n",
    "print(grade,\"/\", len(questions))"
   ]
  },
  {
   "attachments": {},
   "cell_type": "markdown",
   "metadata": {},
   "source": [
    "# Explanation\n",
    "\n",
    "My code is much simpler than the example given. By using what is called a for loop, I can repeat the same actions or lines of code (with different inputs) allowing me to have to not type as much. The other thing I am taking advantage of is a list. In python, a list is basically a  way to store multiple values. \n",
    "\n",
    "The syntax of a for loop is \n",
    "`for i in j`\n",
    "\n",
    "`i` is a variable, one which starts at 0 and gets added to until it reaches j. The program runs what is in the for function once, then adds to `i`, and then repeats until `i` reaches j. For loops exist in lots of programming languages. \n",
    "\n",
    "However, I did something special. I created a list called `questions`, which can store as many questions as I want. I also created a list called `answers`, which stores anwsers. The `for q in questions` doesn't just behave like a normal for loop, the q is not a variable, but rather an item in the list. The function goes through the list with different items. \n",
    "\n",
    "In addition to that, I set a variable called `a`. `a` is used to call on a specific item in the list `answers`, one that matches the question. By adding 1 to `a` at the end of the for loop, I can make sure the item called from questions matches with that of answers.\n",
    "\n",
    "Because of my *genius* intelligence, I was able to create quiz, that is infinitely extendable. You simply add more items to the list of questions and answers, and more questions and answers will be added. No programming necessary. In addition to that, it also gives a fraction score. "
   ]
  },
  {
   "cell_type": "code",
   "execution_count": 20,
   "metadata": {},
   "outputs": [
    {
     "name": "stdout",
     "output_type": "stream",
     "text": [
      "Correct\n",
      "Correct\n",
      "% 100.0\n"
     ]
    }
   ],
   "source": [
    "questions = [[\"Is Jeffrey the Smartest person alive\", \"yes\"], [\"How many players are there on a football team?\", \"11\"]]\n",
    "grade = 0\n",
    "for q in questions:\n",
    "    a = input(q[0])\n",
    "    if a == q[1]:\n",
    "        print(\"Correct\")\n",
    "        grade +=1\n",
    "    else:\n",
    "        print(\"Incorrect\")\n",
    "\n",
    "print(\"%\",(grade / len(questions) * 100))"
   ]
  },
  {
   "cell_type": "code",
   "execution_count": 11,
   "metadata": {},
   "outputs": [],
   "source": [
    "def is_notebook() -> bool:\n",
    "    try:\n",
    "        shell = get_ipython().__class__.__name__\n",
    "        if shell == 'ZMQInteractiveShell':\n",
    "            return True   # Jupyter notebook or qtconsole\n",
    "        elif shell == 'TerminalInteractiveShell':\n",
    "            return False  # Terminal running IPython\n",
    "        else:\n",
    "            return False  # Other type (?)\n",
    "    except NameError:\n",
    "        return False      # Probably standard Python interpreter"
   ]
  },
  {
   "cell_type": "code",
   "execution_count": null,
   "metadata": {},
   "outputs": [],
   "source": [
    "import os\n",
    "def clear():\n",
    "    os.system('cls||clear')"
   ]
  },
  {
   "cell_type": "code",
   "execution_count": 7,
   "metadata": {},
   "outputs": [],
   "source": [
    "import shelve\n",
    "import os\n",
    "\n",
    "try:\n",
    "    os.remove(\"store\")\n",
    "except FileNotFoundError:\n",
    "    print(\"not created yet\")\n",
    "\n",
    "\n",
    "class Quiz:\n",
    "    def __init__(self, name):\n",
    "        self.qs = {}\n",
    "        counter = 1\n",
    "        while(True):\n",
    "            qname = input(\"Question \"+str(counter)+\" is?\")\n",
    "            ansnum = int(input(\"How many answers in Question \"+str(counter)))\n",
    "            self.qs[qname] = []\n",
    "            for i in range(ansnum):\n",
    "                self.qs[qname].append(input(\"Answer \"+str(i+1)+\" is?\"))\n",
    "                if input(\"Is this answer correct? y / n ?\") == \"y\":\n",
    "                    self.qs[qname][i] = self.qs[qname][i] +\"asequenceofcharactersthatnoonewillaccidentallytype\" \n",
    "\n",
    "            if input(\"Last question in the quiz? y or n\") == \"y\":\n",
    "                break\n",
    "            \n",
    "            counter +=1\n",
    "    def test(self):\n",
    "        for i in self.qs:\n",
    "            print(i)\n",
    "            for z in self.qs[i]:\n",
    "                if z[-50:] == \"asequenceofcharactersthatnoonewillaccidentallytype\":\n",
    "                    print(z[:-50])\n",
    "                else: \n",
    "                    print(z)\n",
    "    def ask(self):\n",
    "        answers = []\n",
    "        correct = 0\n",
    "        for i in self.qs:\n",
    "            print(i)\n",
    "            count = 0\n",
    "            for z in self.qs[i]:\n",
    "                if z[-50:] == \"asequenceofcharactersthatnoonewillaccidentallytype\":\n",
    "                    print(str(count + 1) + z[:-50])\n",
    "                    answers.append(z)\n",
    "                else: \n",
    "                    print(str(count + 1) + z)\n",
    "                count =+ 1\n",
    "            answer = int(input(\"Make your selection (pick a number):\")) - 1\n",
    "            if self.qs[i][answer][-50:] == \"asequenceofcharactersthatnoonewillaccidentallytype\":\n",
    "                correct += 1\n",
    "        print(correct)\n",
    "        print(correct / int(len(self.qs)))\n",
    "        \n",
    "\n",
    "\n",
    "    \n",
    "\n",
    "\n",
    "\n",
    "store = shelve.open('store')\n",
    "\n",
    "\n",
    "\n",
    "\n",
    "\n",
    "\n",
    "\n",
    "\n"
   ]
  },
  {
   "cell_type": "code",
   "execution_count": null,
   "metadata": {},
   "outputs": [],
   "source": [
    "store[\"quiz\"] = Quiz(\"Quiz\")"
   ]
  },
  {
   "cell_type": "code",
   "execution_count": null,
   "metadata": {},
   "outputs": [],
   "source": [
    "# This will be the main program\n",
    "\n",
    "while True:\n",
    "    print(\"Welcome to Jeffrey's Quiz program: Choose\")\n",
    "    print(\"1. List Quizzes \\n2. Create Quiz\\n3. Do quiz \\n4. Quit\")\n",
    "    selection = input(\"Choose:\")\n",
    "    if selection == \"1\":\n",
    "        for quiz in store:\n",
    "            print(quiz)\n",
    "    if selection == \"2\":\n",
    "        quizname = input(\"What would you like this quiz to be called?\")\n",
    "        store[quizname] = Quiz(quizname)\n",
    "    if selection == \"3\":\n",
    "        quizarray = []\n",
    "        for count, quiz in enumerate(store):\n",
    "            print(str(count + 1)+\" \"+quiz)\n",
    "            quizarray.append(quiz)\n",
    "        selectquiz = int(input(\"Select a Quiz to do:\")) - 1\n",
    "        store[quizarray[selectquiz]].ask()\n",
    "    if selection == \"4\":\n",
    "        break\n",
    "    \n",
    "\n",
    "\n"
   ]
  },
  {
   "cell_type": "code",
   "execution_count": null,
   "metadata": {},
   "outputs": [],
   "source": [
    "def print_menu():\n",
    "    os.system(\"clear\")\n",
    "    print(\"1. Option 1\")\n",
    "    print(\"2. Option 2\")\n",
    "    print(\"3. Option 3\")\n",
    "    print(\"4. Quit\")\n",
    "\n",
    "while True:\n",
    "    print_menu()\n",
    "    choice = input(\"Enter your choice: \")\n",
    "    if choice == \"1\":\n",
    "        print(\"You chose Option 1\")\n",
    "    elif choice == \"2\":\n",
    "        print(\"You chose Option 2\")\n",
    "    elif choice == \"3\":\n",
    "        print(\"You chose Option 3\")\n",
    "    elif choice == \"4\":\n",
    "        print(\"Exiting...\")\n",
    "        break\n",
    "    else:\n",
    "        print(\"Invalid choice. Please try again.\")\n",
    "    \n"
   ]
  },
  {
   "cell_type": "code",
   "execution_count": 4,
   "metadata": {},
   "outputs": [
    {
     "name": "stdout",
     "output_type": "stream",
     "text": [
      "1\n",
      "yeet\n",
      "2\n",
      "lmao\n",
      "2\n"
     ]
    }
   ],
   "source": [
    "testdict = {1:\"yeet\",2:\"lmao\"}\n",
    "\n",
    "for i in testdict:\n",
    "    print(i)\n",
    "    print(testdict[i])\n",
    "\n",
    "print(len(testdict))"
   ]
  },
  {
   "cell_type": "code",
   "execution_count": 5,
   "metadata": {},
   "outputs": [
    {
     "name": "stdout",
     "output_type": "stream",
     "text": [
      "{'yeet': 'test', 'new_key': 'value'}\n"
     ]
    }
   ],
   "source": [
    "my_dict = {'old_key': 'value', 'yeet':\"test\"}\n",
    "my_dict['new_key'] = my_dict.pop('old_key')\n",
    "print(my_dict)\n"
   ]
  },
  {
   "cell_type": "code",
   "execution_count": 10,
   "metadata": {},
   "outputs": [
    {
     "name": "stdout",
     "output_type": "stream",
     "text": [
      "test \n",
      "test\n",
      "\u001b[H\u001b[2J"
     ]
    },
    {
     "data": {
      "text/plain": [
       "0"
      ]
     },
     "execution_count": 10,
     "metadata": {},
     "output_type": "execute_result"
    }
   ],
   "source": [
    "import os\n",
    "print(\"test \\ntest\")\n",
    "os.system(\"clear\")\n"
   ]
  },
  {
   "cell_type": "code",
   "execution_count": 1,
   "metadata": {},
   "outputs": [
    {
     "ename": "RuntimeError",
     "evalue": "Invalid input format! Got \"py\" but expected one of these: biblatex, bibtex, commonmark, commonmark_x, creole, csljson, csv, docbook, docx, dokuwiki, endnotexml, epub, fb2, gfm, haddock, html, ipynb, jats, jira, json, latex, man, markdown, markdown_github, markdown_mmd, markdown_phpextra, markdown_strict, mediawiki, muse, native, odt, opml, org, ris, rst, rtf, t2t, textile, tikiwiki, tsv, twiki, vimwiki",
     "output_type": "error",
     "traceback": [
      "\u001b[0;31m---------------------------------------------------------------------------\u001b[0m",
      "\u001b[0;31mRuntimeError\u001b[0m                              Traceback (most recent call last)",
      "\u001b[1;32m/home/moonpie/vscode/ipynbs/2022-08-26-pythonquiz.ipynb Cell 15\u001b[0m in \u001b[0;36m<cell line: 2>\u001b[0;34m()\u001b[0m\n\u001b[1;32m      <a href='vscode-notebook-cell:/home/moonpie/vscode/ipynbs/2022-08-26-pythonquiz.ipynb#X20sZmlsZQ%3D%3D?line=0'>1</a>\u001b[0m \u001b[39mimport\u001b[39;00m \u001b[39mpypandoc\u001b[39;00m\n\u001b[0;32m----> <a href='vscode-notebook-cell:/home/moonpie/vscode/ipynbs/2022-08-26-pythonquiz.ipynb#X20sZmlsZQ%3D%3D?line=1'>2</a>\u001b[0m output \u001b[39m=\u001b[39m pypandoc\u001b[39m.\u001b[39;49mconvert_file(\u001b[39m'\u001b[39;49m\u001b[39mcptquiz.py\u001b[39;49m\u001b[39m'\u001b[39;49m, \u001b[39m'\u001b[39;49m\u001b[39mpdf\u001b[39;49m\u001b[39m'\u001b[39;49m, outputfile\u001b[39m=\u001b[39;49m\u001b[39m'\u001b[39;49m\u001b[39mcptquiz.pdf\u001b[39;49m\u001b[39m'\u001b[39;49m)\n",
      "File \u001b[0;32m/nix/store/gbhnar5dq6pzznjhk9y09rxs016c4kwy-python3.10-pypandoc-1.10/lib/python3.10/site-packages/pypandoc/__init__.py:170\u001b[0m, in \u001b[0;36mconvert_file\u001b[0;34m(source_file, to, format, extra_args, encoding, outputfile, filters, verify_format, sandbox, cworkdir)\u001b[0m\n\u001b[1;32m    167\u001b[0m \u001b[39mif\u001b[39;00m \u001b[39mlen\u001b[39m(discovered_source_files) \u001b[39m==\u001b[39m \u001b[39m1\u001b[39m:\n\u001b[1;32m    168\u001b[0m     discovered_source_files \u001b[39m=\u001b[39m discovered_source_files[\u001b[39m0\u001b[39m]\n\u001b[0;32m--> 170\u001b[0m \u001b[39mreturn\u001b[39;00m _convert_input(discovered_source_files, \u001b[39mformat\u001b[39;49m, \u001b[39m'\u001b[39;49m\u001b[39mpath\u001b[39;49m\u001b[39m'\u001b[39;49m, to, extra_args\u001b[39m=\u001b[39;49mextra_args,\n\u001b[1;32m    171\u001b[0m                   outputfile\u001b[39m=\u001b[39;49moutputfile, filters\u001b[39m=\u001b[39;49mfilters,\n\u001b[1;32m    172\u001b[0m                   verify_format\u001b[39m=\u001b[39;49mverify_format, sandbox\u001b[39m=\u001b[39;49msandbox,\n\u001b[1;32m    173\u001b[0m                   cworkdir\u001b[39m=\u001b[39;49mcworkdir)\n",
      "File \u001b[0;32m/nix/store/gbhnar5dq6pzznjhk9y09rxs016c4kwy-python3.10-pypandoc-1.10/lib/python3.10/site-packages/pypandoc/__init__.py:327\u001b[0m, in \u001b[0;36m_convert_input\u001b[0;34m(source, format, input_type, to, extra_args, outputfile, filters, verify_format, sandbox, cworkdir)\u001b[0m\n\u001b[1;32m    324\u001b[0m _ensure_pandoc_path()\n\u001b[1;32m    326\u001b[0m \u001b[39mif\u001b[39;00m verify_format:\n\u001b[0;32m--> 327\u001b[0m     \u001b[39mformat\u001b[39m, to \u001b[39m=\u001b[39m _validate_formats(\u001b[39mformat\u001b[39;49m, to, outputfile)\n\u001b[1;32m    328\u001b[0m \u001b[39melse\u001b[39;00m:\n\u001b[1;32m    329\u001b[0m     \u001b[39mformat\u001b[39m \u001b[39m=\u001b[39m normalize_format(\u001b[39mformat\u001b[39m)\n",
      "File \u001b[0;32m/nix/store/gbhnar5dq6pzznjhk9y09rxs016c4kwy-python3.10-pypandoc-1.10/lib/python3.10/site-packages/pypandoc/__init__.py:282\u001b[0m, in \u001b[0;36m_validate_formats\u001b[0;34m(format, to, outputfile)\u001b[0m\n\u001b[1;32m    279\u001b[0m from_formats, to_formats \u001b[39m=\u001b[39m get_pandoc_formats()\n\u001b[1;32m    281\u001b[0m \u001b[39mif\u001b[39;00m _get_base_format(\u001b[39mformat\u001b[39m) \u001b[39mnot\u001b[39;00m \u001b[39min\u001b[39;00m from_formats:\n\u001b[0;32m--> 282\u001b[0m     \u001b[39mraise\u001b[39;00m \u001b[39mRuntimeError\u001b[39;00m(\n\u001b[1;32m    283\u001b[0m         \u001b[39m'\u001b[39m\u001b[39mInvalid input format! Got \u001b[39m\u001b[39m\"\u001b[39m\u001b[39m%s\u001b[39;00m\u001b[39m\"\u001b[39m\u001b[39m but expected one of these: \u001b[39m\u001b[39m%s\u001b[39;00m\u001b[39m'\u001b[39m \u001b[39m%\u001b[39m (\n\u001b[1;32m    284\u001b[0m             _get_base_format(\u001b[39mformat\u001b[39m), \u001b[39m'\u001b[39m\u001b[39m, \u001b[39m\u001b[39m'\u001b[39m\u001b[39m.\u001b[39mjoin(from_formats)))\n\u001b[1;32m    286\u001b[0m base_to_format \u001b[39m=\u001b[39m _get_base_format(to)\n\u001b[1;32m    288\u001b[0m file_extension \u001b[39m=\u001b[39m os\u001b[39m.\u001b[39mpath\u001b[39m.\u001b[39msplitext(to)[\u001b[39m1\u001b[39m]\n",
      "\u001b[0;31mRuntimeError\u001b[0m: Invalid input format! Got \"py\" but expected one of these: biblatex, bibtex, commonmark, commonmark_x, creole, csljson, csv, docbook, docx, dokuwiki, endnotexml, epub, fb2, gfm, haddock, html, ipynb, jats, jira, json, latex, man, markdown, markdown_github, markdown_mmd, markdown_phpextra, markdown_strict, mediawiki, muse, native, odt, opml, org, ris, rst, rtf, t2t, textile, tikiwiki, tsv, twiki, vimwiki"
     ]
    }
   ],
   "source": [
    "import pypandoc\n",
    "output = pypandoc.convert_file('cptquiz.py', 'pdf', outputfile='cptquiz.pdf')"
   ]
  }
 ],
 "metadata": {
  "kernelspec": {
   "display_name": "Python 3.9.7 ('base')",
   "language": "python",
   "name": "python3"
  },
  "language_info": {
   "codemirror_mode": {
    "name": "ipython",
    "version": 3
   },
   "file_extension": ".py",
   "mimetype": "text/x-python",
   "name": "python",
   "nbconvert_exporter": "python",
   "pygments_lexer": "ipython3",
   "version": "3.11.3"
  },
  "orig_nbformat": 4,
  "vscode": {
   "interpreter": {
    "hash": "586ad1ed5c97141e2437e681efbf1ec0adcd17d830cf5af2ca3d2819e743e158"
   }
  }
 },
 "nbformat": 4,
 "nbformat_minor": 2
}
