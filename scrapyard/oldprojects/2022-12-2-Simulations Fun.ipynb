{
 "cells": [
  {
   "cell_type": "raw",
   "metadata": {},
   "source": [
    "---\n",
    "{}\n",
    "execute:\n",
    "  freeze: auto\n",
    "\n",
    "---\n",
    "\n"
   ]
  },
  {
   "cell_type": "code",
   "execution_count": 1,
   "metadata": {},
   "outputs": [],
   "source": [
    "wordlist = []\n",
    "for line in open(\"wordlist.txt\", \"r\"):\n",
    "    if len(line[:-2]) > 3: # gotta remove the newline character\n",
    "        wordlist.append(line[:-2])\n",
    "#creates a word list for me to work with"
   ]
  },
  {
   "cell_type": "code",
   "execution_count": 8,
   "metadata": {},
   "outputs": [
    {
     "name": "stdout",
     "output_type": "stream",
     "text": [
      "1111\n"
     ]
    }
   ],
   "source": [
    "length = int(input(\"length\"))\n",
    "word = \"\"\n",
    "\n",
    "for l in range(length):\n",
    "    letter = input(\"letter?\")\n",
    "    word = word + letter\n",
    "\n",
    "print(word)\n",
    "# Word builder"
   ]
  },
  {
   "cell_type": "code",
   "execution_count": null,
   "metadata": {},
   "outputs": [],
   "source": [
    "players = int(input(\"How many players?\"))\n",
    "\n",
    "while 2 > 1:\n",
    "    for p in range(players):\n",
    "        a = input(\"stuff\")\n",
    "        if a == \"stop\":\n",
    "            exit\n",
    "        print(p)\n",
    "\n",
    "\n",
    "# Player rotator"
   ]
  },
  {
   "cell_type": "code",
   "execution_count": 14,
   "metadata": {},
   "outputs": [],
   "source": [
    "# menu\n",
    "options = [\"1: Add a letter\", \"2: Call a bluff\"]\n",
    "def menu():\n",
    "    for o in options:\n",
    "        print(o)\n",
    "    choice = int(input(\"Make your choice, player\",p+1))"
   ]
  },
  {
   "cell_type": "code",
   "execution_count": 25,
   "metadata": {},
   "outputs": [
    {
     "name": "stdout",
     "output_type": "stream",
     "text": [
      "0\n",
      "1\n",
      "2\n",
      "3\n"
     ]
    }
   ],
   "source": [
    "players = int(input(\"how many players?\"))\n",
    "rnds = int(input(\"rounds?\"))\n",
    "\n",
    "for i,r in enumerate(range(rnds)):\n",
    "    print(i)\n",
    "    print(i / )"
   ]
  },
  {
   "cell_type": "code",
   "execution_count": null,
   "metadata": {},
   "outputs": [],
   "source": [
    "# Beginning of the game\n",
    "players = int(input(\"How many players?\"))\n",
    "gameEnded = False\n",
    "word = input(\"player 1, enter a letter to start:\")\n",
    "\n",
    "while gameEnded == False:\n",
    "    for p in range(players):\n",
    "        if p == 1:\n",
    "            continue\n",
    "        "
   ]
  },
  {
   "cell_type": "code",
   "execution_count": 1,
   "metadata": {},
   "outputs": [],
   "source": [
    "from IPython.display import clear_output\n",
    "import time\n",
    "\n",
    "print(\"stuff\")\n",
    "time.sleep(2)\n",
    "clear_output()"
   ]
  },
  {
   "cell_type": "code",
   "execution_count": 20,
   "metadata": {},
   "outputs": [
    {
     "name": "stdout",
     "output_type": "stream",
     "text": [
      "Hello World!\n"
     ]
    }
   ],
   "source": [
    "from IPython.display import clear_output\n",
    "\n",
    "for i in range(10):\n",
    "    clear_output()\n",
    "    print(\"Hello World!\")"
   ]
  },
  {
   "cell_type": "code",
   "execution_count": 4,
   "metadata": {},
   "outputs": [
    {
     "ename": "IndexError",
     "evalue": "list index out of range",
     "output_type": "error",
     "traceback": [
      "\u001b[0;31m---------------------------------------------------------------------------\u001b[0m",
      "\u001b[0;31mIndexError\u001b[0m                                Traceback (most recent call last)",
      "\u001b[0;32m/tmp/ipykernel_51097/4080574859.py\u001b[0m in \u001b[0;36m<module>\u001b[0;34m\u001b[0m\n\u001b[1;32m     45\u001b[0m   \u001b[0;32mfor\u001b[0m \u001b[0mx\u001b[0m\u001b[0;34m,\u001b[0m \u001b[0mxaxis\u001b[0m \u001b[0;32min\u001b[0m \u001b[0menumerate\u001b[0m\u001b[0;34m(\u001b[0m\u001b[0mgrid\u001b[0m\u001b[0;34m)\u001b[0m\u001b[0;34m:\u001b[0m\u001b[0;34m\u001b[0m\u001b[0;34m\u001b[0m\u001b[0m\n\u001b[1;32m     46\u001b[0m     \u001b[0;32mfor\u001b[0m \u001b[0my\u001b[0m\u001b[0;34m,\u001b[0m \u001b[0myaxis\u001b[0m \u001b[0;32min\u001b[0m \u001b[0menumerate\u001b[0m\u001b[0;34m(\u001b[0m\u001b[0mxaxis\u001b[0m\u001b[0;34m)\u001b[0m\u001b[0;34m:\u001b[0m\u001b[0;34m\u001b[0m\u001b[0;34m\u001b[0m\u001b[0m\n\u001b[0;32m---> 47\u001b[0;31m       \u001b[0mupdate_cell\u001b[0m\u001b[0;34m(\u001b[0m\u001b[0mx\u001b[0m\u001b[0;34m,\u001b[0m \u001b[0my\u001b[0m\u001b[0;34m)\u001b[0m\u001b[0;34m\u001b[0m\u001b[0;34m\u001b[0m\u001b[0m\n\u001b[0m\u001b[1;32m     48\u001b[0m \u001b[0;34m\u001b[0m\u001b[0m\n\u001b[1;32m     49\u001b[0m   \u001b[0mtime\u001b[0m\u001b[0;34m.\u001b[0m\u001b[0msleep\u001b[0m\u001b[0;34m(\u001b[0m\u001b[0;36m1\u001b[0m\u001b[0;34m)\u001b[0m\u001b[0;34m\u001b[0m\u001b[0;34m\u001b[0m\u001b[0m\n",
      "\u001b[0;32m/tmp/ipykernel_51097/4080574859.py\u001b[0m in \u001b[0;36mupdate_cell\u001b[0;34m(x, y)\u001b[0m\n\u001b[1;32m     22\u001b[0m       \u001b[0;32mif\u001b[0m \u001b[0mdx\u001b[0m \u001b[0;34m==\u001b[0m \u001b[0;36m0\u001b[0m \u001b[0;32mand\u001b[0m \u001b[0mdy\u001b[0m \u001b[0;34m==\u001b[0m \u001b[0;36m0\u001b[0m\u001b[0;34m:\u001b[0m\u001b[0;34m\u001b[0m\u001b[0;34m\u001b[0m\u001b[0m\n\u001b[1;32m     23\u001b[0m         \u001b[0;32mcontinue\u001b[0m\u001b[0;34m\u001b[0m\u001b[0;34m\u001b[0m\u001b[0m\n\u001b[0;32m---> 24\u001b[0;31m       \u001b[0mneighbors\u001b[0m \u001b[0;34m+=\u001b[0m \u001b[0mgrid\u001b[0m\u001b[0;34m[\u001b[0m\u001b[0mx\u001b[0m \u001b[0;34m+\u001b[0m \u001b[0mdx\u001b[0m\u001b[0;34m]\u001b[0m\u001b[0;34m[\u001b[0m\u001b[0my\u001b[0m \u001b[0;34m+\u001b[0m \u001b[0mdy\u001b[0m\u001b[0;34m]\u001b[0m\u001b[0;34m\u001b[0m\u001b[0;34m\u001b[0m\u001b[0m\n\u001b[0m\u001b[1;32m     25\u001b[0m       \u001b[0;31m#if grid[x + dx][y + dy] == 1:\u001b[0m\u001b[0;34m\u001b[0m\u001b[0;34m\u001b[0m\u001b[0m\n\u001b[1;32m     26\u001b[0m         \u001b[0;31m#neighbors += 1\u001b[0m\u001b[0;34m\u001b[0m\u001b[0;34m\u001b[0m\u001b[0m\n",
      "\u001b[0;31mIndexError\u001b[0m: list index out of range"
     ]
    }
   ],
   "source": [
    "# Initialize the grid of cells with random states\n",
    "from IPython.display import clear_output\n",
    "import random\n",
    "import time\n",
    "import copy\n",
    "\n",
    "width = 10\n",
    "height = 10\n",
    "grid = [[random.choice([0, 1]) for x in range(width)] for y in range(height)]\n",
    "newGrid = copy.deepcopy(grid)\n",
    "\n",
    "# Define the rules for updating the state of a cell\n",
    "def update_cell(x, y):\n",
    "  # Count the number of live neighbors\n",
    "  neighbors = 0\n",
    "  for dx in [-1, 0, 1]:\n",
    "    for dy in [-1, 0, 1]:\n",
    "      if x + dy < 0 or x + dy > width:\n",
    "        continue\n",
    "      if y + dy < 0 or y + dy > height:\n",
    "        continue\n",
    "      if dx == 0 and dy == 0:\n",
    "        continue\n",
    "      neighbors += grid[x + dx][y + dy]\n",
    "      #if grid[x + dx][y + dy] == 1:\n",
    "        #neighbors += 1\n",
    "  \n",
    "  # Update the state of the cell based on the rules of the Game of Life\n",
    "  if grid[x][y] == 1:\n",
    "    if neighbors < 2 or neighbors > 3:\n",
    "      newGrid[x][y] = 0\n",
    "  else:\n",
    "    if neighbors == 3:\n",
    "      newGrid[x][y] = 1\n",
    "\n",
    "def printGrid():\n",
    "  grid = copy.deepcopy(newGrid)\n",
    "  \n",
    "  rows = [\" \".join(str(i) for i in row) for row in grid]\n",
    "  print(\"\\n\".join(rows))\n",
    "    \n",
    "\n",
    "# Update the state of the grid over time\n",
    "for i in range(10):\n",
    "  for x, xaxis in enumerate(grid):\n",
    "    for y, yaxis in enumerate(xaxis):\n",
    "      update_cell(x, y)\n",
    "  \n",
    "  time.sleep(1)\n",
    "  clear_output()\n",
    "\n",
    "\n",
    "\n",
    "  print(\"Generation \", i)\n",
    "  printGrid()"
   ]
  },
  {
   "cell_type": "code",
   "execution_count": null,
   "metadata": {},
   "outputs": [
    {
     "data": {
      "text/plain": [
       "range(0, 10)"
      ]
     },
     "execution_count": 6,
     "metadata": {},
     "output_type": "execute_result"
    }
   ],
   "source": [
    "range(width)"
   ]
  },
  {
   "cell_type": "code",
   "execution_count": 7,
   "metadata": {},
   "outputs": [
    {
     "name": "stdout",
     "output_type": "stream",
     "text": [
      "It will take 1.118033988749895 seconds to fall!\n"
     ]
    }
   ],
   "source": [
    "height = float(input(\"height?\"))\n",
    "\n",
    "weight = input(\"weight\")\n",
    "\n",
    "stuff = height / 16\n",
    "\n",
    "stuff = stuff ** (1/2)\n",
    "\n",
    "print(\"It will take\", stuff,\"seconds to fall!\")"
   ]
  }
 ],
 "metadata": {
  "kernelspec": {
   "display_name": "Python 3.9.15 ('base')",
   "language": "python",
   "name": "python3"
  },
  "language_info": {
   "codemirror_mode": {
    "name": "ipython",
    "version": 3
   },
   "file_extension": ".py",
   "mimetype": "text/x-python",
   "name": "python",
   "nbconvert_exporter": "python",
   "pygments_lexer": "ipython3",
   "version": "3.9.15"
  },
  "orig_nbformat": 4,
  "vscode": {
   "interpreter": {
    "hash": "586ad1ed5c97141e2437e681efbf1ec0adcd17d830cf5af2ca3d2819e743e158"
   }
  }
 },
 "nbformat": 4,
 "nbformat_minor": 2
}
