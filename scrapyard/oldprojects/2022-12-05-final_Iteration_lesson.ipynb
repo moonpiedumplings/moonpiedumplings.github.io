{
 "cells": [
  {
   "cell_type": "raw",
   "metadata": {},
   "source": [
    "---\n",
    "aliases:\n",
    "- /lesson4\n",
    "badges: false\n",
    "categories:\n",
    "- lessons\n",
    "date: '2022-12-05'\n",
    "description: Lists and Iteration, 8-10 Lesson and HW\n",
    "output-file: 2022-12-05-final_iteration_lesson.html\n",
    "permalink: /lesson4\n",
    "title: 8 and 10 Lesson and HW\n",
    "toc: true\n",
    "execute:\n",
    "  freeze: auto\n",
    "\n",
    "---\n",
    "\n"
   ]
  },
  {
   "cell_type": "markdown",
   "metadata": {},
   "source": [
    "# Lists\n",
    "## What are lists?\n",
    "Lists: a sequence of variables\n",
    "- we can use lists to store multiple items into one variable\n",
    "- used to store collections of data\n",
    "- changeable, ordered, allow duplicates"
   ]
  },
  {
   "cell_type": "markdown",
   "metadata": {},
   "source": [
    "### List examples in Python, JavaScript, and Pseudocode."
   ]
  },
  {
   "cell_type": "code",
   "execution_count": 6,
   "metadata": {},
   "outputs": [
    {
     "name": "stdout",
     "output_type": "stream",
     "text": [
      "['apple', 'grape', 'strawberry']\n"
     ]
    }
   ],
   "source": [
    "fruits = [\"apple\", \"grape\", \"strawberry\"]\n",
    "print (fruits)"
   ]
  },
  {
   "cell_type": "code",
   "execution_count": null,
   "metadata": {
    "vscode": {
     "languageId": "javascript"
    }
   },
   "outputs": [],
   "source": [
    "const fruits = [\"apple\", \"grape\", \"strawberry\"]"
   ]
  },
  {
   "cell_type": "code",
   "execution_count": null,
   "metadata": {},
   "outputs": [],
   "source": [
    "fruits = [apple, grape, strawberry]"
   ]
  },
  {
   "cell_type": "markdown",
   "metadata": {},
   "source": [
    "### More list examples"
   ]
  },
  {
   "cell_type": "code",
   "execution_count": 1,
   "metadata": {},
   "outputs": [],
   "source": [
    "brands = [\"nike\", \"adidas\", \"underarmour\"] #string\n",
    "numbers = [1, 2, 3, 4, 5] #integer\n",
    "truefalse = [True, False, True] #boolean"
   ]
  },
  {
   "cell_type": "markdown",
   "metadata": {},
   "source": [
    "### Lists are just one of four collection data types in Python\n",
    "\n",
    "- Tuple: collection that is ordered, unchangeable, allows duplicates\n",
    "- Set: collection that is unordered, unchangeable, doesn't allow duplicates\n",
    "- Dictionary: collection that is ordered, changeable, doesn't allow duplicates"
   ]
  },
  {
   "cell_type": "markdown",
   "metadata": {},
   "source": [
    "### Terms\n",
    "- Index: a term used to sort data in order to reference to an element in a list (allows for duplicates)\n",
    "- Elements: the values in the list assigned to an index"
   ]
  },
  {
   "cell_type": "code",
   "execution_count": null,
   "metadata": {},
   "outputs": [],
   "source": [
    "fruits = [\"apple\", \"grape\", \"strawberry\"]\n",
    "index = 1\n",
    "\n",
    "print (fruits[index])"
   ]
  },
  {
   "cell_type": "markdown",
   "metadata": {},
   "source": [
    "## Methods in Lists\n",
    "\n",
    "| Method | Definition | Example |\n",
    "|-|-|-|\n",
    "| append() | adds element to the end of the list | fruits.append(\"watermelon\") |\n",
    "| index() | returns the index of the first element with the specified value | fruits.index(\"apple\") |\n",
    "| insert() | adds element at given position | fruits.insert(1, \"watermelon\")|\n",
    "| remove() | removes the first item with the specified value | fruits.remove(\"strawberry\") |\n",
    "| reverse() | reverses the list order | fruits.reverse() |\n",
    "| sort() | sorts the list | fruits.sort() |\n",
    "| count() | returns the amount of elements with the specified value | fruits.count(\"apple\") |\n",
    "| copy() | returns a copy of the list | fruits.copy() |\n",
    "| clear() | removes the elements from the list | fruits.clear() |"
   ]
  },
  {
   "cell_type": "code",
   "execution_count": null,
   "metadata": {},
   "outputs": [],
   "source": [
    "sports = [\"football\", \"soccer\", \"baseball\", \"basketball\"]\n",
    "\n",
    "# change the value \"soccer\" to \"hockey\"\n",
    "print (sports)"
   ]
  },
  {
   "cell_type": "code",
   "execution_count": null,
   "metadata": {},
   "outputs": [],
   "source": [
    "sports = [\"football\", \"soccer\", \"baseball\", \"basketball\"]\n",
    "\n",
    "# add \"golf\" as the 3rd element in the list\n",
    "print (sports)"
   ]
  },
  {
   "cell_type": "markdown",
   "metadata": {},
   "source": [
    "### Try this\n",
    "- Determine the output of the code segment\n",
    "\n",
    "![pic](../images/sudocode.png)"
   ]
  },
  {
   "cell_type": "markdown",
   "metadata": {},
   "source": [
    "# Iteration\n",
    "> stuff\n",
    "\n",
    "\n",
    "- title: Iteration HW\n",
    "- toc: true\n",
    "- comments: true\n",
    "- categories: [iteration]\n",
    "- tags: [iteration]"
   ]
  },
  {
   "cell_type": "markdown",
   "metadata": {},
   "source": [
    "## First, what not to do\n",
    "> Iteration is important for your time and sanity"
   ]
  },
  {
   "cell_type": "code",
   "execution_count": 1,
   "metadata": {},
   "outputs": [
    {
     "name": "stdout",
     "output_type": "stream",
     "text": [
      "alpha\n",
      "bravo\n",
      "charlie\n",
      "delta\n",
      "echo\n",
      "foxtrot\n",
      "golf\n",
      "hotel\n",
      "india\n",
      "juliett\n",
      "kilo\n",
      "lima\n",
      "mike\n",
      "november\n",
      "oscar\n",
      "papa\n",
      "quebec\n",
      "romeo\n",
      "sierra\n",
      "tango\n",
      "uniform\n",
      "victor\n",
      "whiskey\n",
      "x-ray\n",
      "yankee\n",
      "zulu\n"
     ]
    }
   ],
   "source": [
    "print(\"alpha\")\n",
    "print(\"bravo\")\n",
    "print(\"charlie\")\n",
    "print(\"delta\")\n",
    "print(\"echo\")\n",
    "print(\"foxtrot\")\n",
    "print(\"golf\")\n",
    "print(\"hotel\")\n",
    "print(\"india\")\n",
    "print(\"juliett\")\n",
    "print(\"kilo\")\n",
    "print(\"lima\")\n",
    "print(\"mike\")\n",
    "print(\"november\")\n",
    "print(\"oscar\")\n",
    "print(\"papa\")\n",
    "print(\"quebec\")\n",
    "print(\"romeo\")\n",
    "print(\"sierra\")\n",
    "print(\"tango\")\n",
    "print(\"uniform\")\n",
    "print(\"victor\")\n",
    "print(\"whiskey\")\n",
    "print(\"x-ray\")\n",
    "print(\"yankee\")\n",
    "print(\"zulu\")\n",
    "#please help me "
   ]
  },
  {
   "cell_type": "markdown",
   "metadata": {},
   "source": [
    ">Coding all of these individually takes a lot of unnecessary time, how can we shorten this time?"
   ]
  },
  {
   "cell_type": "markdown",
   "metadata": {},
   "source": [
    "## Iteration\n",
    "> Iteration is the repetition of a process or utterance applied to the result or taken from a previous statement.\n",
    "> There's a lot of types of iteration though, what to use? How do we apply iteration to lists? \n",
    "\n",
    "> Some methods include using a \"for loop\", using a \"for loop and range()\", using a \"while loop\", and using comprehension "
   ]
  },
  {
   "cell_type": "markdown",
   "metadata": {},
   "source": [
    "> Lists, tuples, dictionaries, and sets are iterable objects. They are the 'containers' that store the data to iterate. \n",
    "\n",
    ">Each of these containers are able to iterate with the iter() command. \n",
    "\n",
    ">There are 2 types of iteration: definite and indefinite. Definite iteration clarifies how many times the loop is going to run, while indefinite specifies a condition that must be met"
   ]
  },
  {
   "cell_type": "code",
   "execution_count": null,
   "metadata": {},
   "outputs": [],
   "source": [
    "# An example of a for loop\n",
    "\n",
    "for variable in iterable: \n",
    "    statement()"
   ]
  },
  {
   "cell_type": "markdown",
   "metadata": {},
   "source": [
    "### Iterator? Iterable? Iteration? \n",
    "- When an object is iterable it can be used in an iteration \n",
    "- When passed through the function iter() it returns an iterator \n",
    "- Strings, lists, dictionaries, sets and tuples are all examples of iterable objects."
   ]
  },
  {
   "cell_type": "code",
   "execution_count": 29,
   "metadata": {},
   "outputs": [
    {
     "name": "stdout",
     "output_type": "stream",
     "text": [
      "<list_iterator object at 0x7f39a10accd0>\n",
      "alpha\n",
      "<list_iterator object at 0x7f39a10accd0>\n",
      "bravo\n",
      "charlie\n",
      "<list_iterator object at 0x7f39a10ac8e0>\n"
     ]
    }
   ],
   "source": [
    "# Using an example of iter()\n",
    "a = ['alpha', 'bravo', 'charlie']\n",
    "\n",
    "itr = iter(a)\n",
    "print(iter(a))\n",
    "print(next(itr))\n",
    "print(iter(a))\n",
    "print(next(itr))\n",
    "print(next(itr))\n",
    "\n",
    "itr2 = iter(a)\n",
    "\n",
    "print(itr2)"
   ]
  },
  {
   "cell_type": "code",
   "execution_count": 28,
   "metadata": {},
   "outputs": [
    {
     "name": "stdout",
     "output_type": "stream",
     "text": [
      "alpha 0\n",
      "bravo 1\n",
      "charlie 2\n",
      "<enumerate object at 0x7f39a19cc600>\n"
     ]
    },
    {
     "ename": "ValueError",
     "evalue": "too many values to unpack (expected 2)",
     "output_type": "error",
     "traceback": [
      "\u001b[0;31m---------------------------------------------------------------------------\u001b[0m",
      "\u001b[0;31mValueError\u001b[0m                                Traceback (most recent call last)",
      "\u001b[0;32m/tmp/ipykernel_419695/2924489889.py\u001b[0m in \u001b[0;36m<module>\u001b[0;34m\u001b[0m\n\u001b[1;32m      4\u001b[0m \u001b[0mprint\u001b[0m\u001b[0;34m(\u001b[0m\u001b[0menumerate\u001b[0m\u001b[0;34m(\u001b[0m\u001b[0ma\u001b[0m\u001b[0;34m)\u001b[0m\u001b[0;34m)\u001b[0m\u001b[0;34m\u001b[0m\u001b[0;34m\u001b[0m\u001b[0m\n\u001b[1;32m      5\u001b[0m \u001b[0;34m\u001b[0m\u001b[0m\n\u001b[0;32m----> 6\u001b[0;31m \u001b[0;32mfor\u001b[0m \u001b[0midx\u001b[0m\u001b[0;34m,\u001b[0m \u001b[0mi\u001b[0m \u001b[0;32min\u001b[0m \u001b[0ma\u001b[0m\u001b[0;34m:\u001b[0m\u001b[0;34m\u001b[0m\u001b[0;34m\u001b[0m\u001b[0m\n\u001b[0m\u001b[1;32m      7\u001b[0m     \u001b[0mprint\u001b[0m\u001b[0;34m(\u001b[0m\u001b[0mi\u001b[0m\u001b[0;34m,\u001b[0m \u001b[0midx\u001b[0m\u001b[0;34m)\u001b[0m\u001b[0;34m\u001b[0m\u001b[0;34m\u001b[0m\u001b[0m\n",
      "\u001b[0;31mValueError\u001b[0m: too many values to unpack (expected 2)"
     ]
    }
   ],
   "source": [
    "for idx, i in enumerate(a):\n",
    "    print(i, idx)\n",
    "\n",
    "print(enumerate(a))\n",
    "\n",
    "for idx, i in a:\n",
    "    print(i, idx)   "
   ]
  },
  {
   "cell_type": "markdown",
   "metadata": {},
   "source": [
    "### Loops \n",
    "- Well, above is basically just printing them again, so how do we takes these iterators into something we can make use for? \n",
    "- Loops take essentially what we did above and automates it, here are some examples."
   ]
  },
  {
   "cell_type": "code",
   "execution_count": null,
   "metadata": {},
   "outputs": [],
   "source": [
    "# Using a for loop \n",
    "list = [\"Alpha\", \"Bravo\", \"Charlie\", \"Delta\", \"Echo\", \"Foxtrot\", \"Golf\", \"Hotel\", \"India\", \"Juliett\", \"Kilo\", \"Lima\", \"Mike\", \"November\", \"Oscar\", \"Papa\", \"Quebec\", \"Romeo\", \"Sierra\", \"Tango\", \"Uniform\", \"Victor\", \"Whiskey\", \"X-ray\", \"Yankee\", \"Zulu\"]\n",
    "\n",
    "# using a for loop \n",
    "for i in list:\n",
    "    #for item in the list, print the item \n",
    "    print(i)\n",
    "    "
   ]
  },
  {
   "cell_type": "code",
   "execution_count": null,
   "metadata": {},
   "outputs": [],
   "source": [
    "# Using a for loop and range()\n",
    "list = [\"Alpha\", \"Bravo\", \"Charlie\", \"Delta\", \"Echo\", \"Foxtrot\", \"Golf\", \"Hotel\", \"India\", \"Juliett\", \"Kilo\", \"Lima\", \"Mike\", \"November\", \"Oscar\", \"Papa\", \"Quebec\", \"Romeo\", \"Sierra\", \"Tango\", \"Uniform\", \"Victor\", \"Whiskey\", \"X-ray\", \"Yankee\", \"Zulu\"]\n",
    "\n",
    "# Taking the length of the list \n",
    "lengthList = len(list) \n",
    "\n",
    "# Iteration using the amount of items in the list\n",
    "for i in range(lengthList):\n",
    "    print(list[i])"
   ]
  },
  {
   "cell_type": "code",
   "execution_count": null,
   "metadata": {},
   "outputs": [],
   "source": [
    "# Iteration using the while loop\n",
    "list = [\"Alpha\", \"Bravo\", \"Charlie\", \"Delta\", \"Echo\", \"Foxtrot\", \"Golf\", \"Hotel\", \"India\", \"Juliett\", \"Kilo\", \"Lima\", \"Mike\", \"November\", \"Oscar\", \"Papa\", \"Quebec\", \"Romeo\", \"Sierra\", \"Tango\", \"Uniform\", \"Victor\", \"Whiskey\", \"X-ray\", \"Yankee\", \"Zulu\"]\n",
    "\n",
    "# Once again, taking the length of the list\n",
    "lengthList = len(list)\n",
    "\n",
    "# Setting the variable we are going to use as 0\n",
    "i=0 \n",
    "\n",
    "# Iteration using the while loop \n",
    "# Argument saying WHILE a certain variable is a certain condition, the code should run\n",
    "while i < lengthList:\n",
    "    print(list[i])\n",
    "    i += 1"
   ]
  },
  {
   "cell_type": "markdown",
   "metadata": {},
   "source": [
    "### Using the range() function \n",
    "> But wait, there's more\n",
    "- Need to save even more time? The above is useful for many occasions, but can get tedious fast, in this case, use range()"
   ]
  },
  {
   "cell_type": "code",
   "execution_count": 15,
   "metadata": {},
   "outputs": [
    {
     "name": "stdout",
     "output_type": "stream",
     "text": [
      "0\n",
      "1\n",
      "2\n",
      "3\n",
      "4\n"
     ]
    }
   ],
   "source": [
    "# An example of a range() function, note that any given list or set starts with assigned value 0\n",
    "x = range(5)\n",
    "\n",
    "for n in x:\n",
    "    print(n)"
   ]
  },
  {
   "cell_type": "markdown",
   "metadata": {},
   "source": [
    "### Else, elif, and break\n",
    "> For when 1 statement isn't enough \n",
    "- Else: when the condition does not meet, do statement()\n",
    "- Elif: when the condition does not meet, but meets another condition, do statement()\n",
    "- Break: stop the loop"
   ]
  },
  {
   "cell_type": "markdown",
   "metadata": {},
   "source": [
    "## HW Iteration\n",
    "Use the list below to turn the first letter of any word (using input()) into its respective NATO phonetic alphabet word\n",
    "\n",
    "Ex:\n",
    "\n",
    "list ->\n",
    "\n",
    "lima\n",
    "india\n",
    "sierra\n",
    "tango"
   ]
  },
  {
   "cell_type": "code",
   "execution_count": 5,
   "metadata": {},
   "outputs": [
    {
     "name": "stdout",
     "output_type": "stream",
     "text": [
      "hotel\n",
      "echo\n",
      "lima\n",
      "lima\n",
      "oscar\n"
     ]
    }
   ],
   "source": [
    "words = [\"alfa\", \"bravo\", \"charlie\", \"delta\", \"echo\", \"foxtrot\", \"golf\", \"hotel\", \"india\", \"juliett\", \"kilo\",\n",
    "\"lima\", \"mike\", \"november\", \"oscar\", \"papa\", \"quebec\", \"romeo\", \"sierra\", \"tango\", \"uniform\", \"victor\", \"whiskey\", \"xray\", \"yankee\", \"zulu\"]\n",
    "\n",
    "inp = input().lower()\n",
    "\n",
    "for k in inp:\n",
    "    for i in words:\n",
    "        if i[0] == k:\n",
    "            print(i)"
   ]
  },
  {
   "cell_type": "markdown",
   "metadata": {},
   "source": [
    "# 2D Iteration\n",
    "\n",
    "## 2D Arrays\n",
    "\n",
    "A 2D array is simply just a list of lists. The example below is technically correct but..."
   ]
  },
  {
   "cell_type": "code",
   "execution_count": 14,
   "metadata": {},
   "outputs": [],
   "source": [
    "# Example matrix\n",
    "\n",
    "keypad = [[1, 2, 3], [4, 5, 6], [7, 8, 9], [\" \", 0, \" \"]]"
   ]
  },
  {
   "cell_type": "markdown",
   "metadata": {},
   "source": [
    "Conventially 2D arrays are written like below. This is because 2D arrays are meant to be read in 2 dimensions (hence the name). Writing them like below makes them easier to visualize and understand. "
   ]
  },
  {
   "cell_type": "code",
   "execution_count": 2,
   "metadata": {},
   "outputs": [],
   "source": [
    "# Better example matrix\n",
    "keypad =   [[1, 2, 3],\n",
    "            [4, 5, 6],\n",
    "            [7, 8, 9],\n",
    "            [\" \", 0, \" \"]]"
   ]
  },
  {
   "cell_type": "markdown",
   "metadata": {},
   "source": [
    "## Printing a 2D Array\n",
    "We already know that we can't just print the matrix by calling it. We need to iterate through it to print it. "
   ]
  },
  {
   "cell_type": "code",
   "execution_count": 11,
   "metadata": {},
   "outputs": [],
   "source": [
    "# Nested loops using ij indexes\n",
    "def print_matrix1(matrix): \n",
    "    for i in range(len(matrix)):  # outer for loop. This runs on i which represents the row. range(len(matrix)) is in order to iterate through the length of the matrix\n",
    "        for j in range(len(matrix[i])):  # inner for loop. This runs on the length of the i'th row in the matrix (j changes for each row with a different length)\n",
    "            print(matrix[i][j], end=\" \")  # [i][j] is the 2D location of that value in the matrix, kinda like a coordinate pair. [i] iterates to the specific row and [j] iterates to the specific value in the row. end=\" \" changes the end value to space, not a new line.\n",
    "        print() # prints extra line. this is in the outer loop, not the inner loop, because it only wants to print a new line for each row"
   ]
  },
  {
   "cell_type": "code",
   "execution_count": 46,
   "metadata": {},
   "outputs": [
    {
     "name": "stdout",
     "output_type": "stream",
     "text": [
      "Raw matrix (list of lists): \n"
     ]
    },
    {
     "ename": "NameError",
     "evalue": "name 'keypad' is not defined",
     "output_type": "error",
     "traceback": [
      "\u001b[0;31m---------------------------------------------------------------------------\u001b[0m",
      "\u001b[0;31mNameError\u001b[0m                                 Traceback (most recent call last)",
      "\u001b[0;32m/tmp/ipykernel_29843/1938995551.py\u001b[0m in \u001b[0;36m<module>\u001b[0;34m\u001b[0m\n\u001b[1;32m      1\u001b[0m \u001b[0mprint\u001b[0m\u001b[0;34m(\u001b[0m\u001b[0;34m\"Raw matrix (list of lists): \"\u001b[0m\u001b[0;34m)\u001b[0m\u001b[0;34m\u001b[0m\u001b[0;34m\u001b[0m\u001b[0m\n\u001b[0;32m----> 2\u001b[0;31m \u001b[0mprint\u001b[0m\u001b[0;34m(\u001b[0m\u001b[0mkeypad\u001b[0m\u001b[0;34m)\u001b[0m\u001b[0;34m\u001b[0m\u001b[0;34m\u001b[0m\u001b[0m\n\u001b[0m\u001b[1;32m      3\u001b[0m \u001b[0mprint\u001b[0m\u001b[0;34m(\u001b[0m\u001b[0;34m\"Matrix printed using nested for loop iteration:\"\u001b[0m\u001b[0;34m)\u001b[0m\u001b[0;34m\u001b[0m\u001b[0;34m\u001b[0m\u001b[0m\n\u001b[1;32m      4\u001b[0m \u001b[0mprint_matrix1\u001b[0m\u001b[0;34m(\u001b[0m\u001b[0mkeypad\u001b[0m\u001b[0;34m)\u001b[0m\u001b[0;34m\u001b[0m\u001b[0;34m\u001b[0m\u001b[0m\n\u001b[1;32m      5\u001b[0m \u001b[0mprint\u001b[0m\u001b[0;34m(\u001b[0m\u001b[0;34m)\u001b[0m\u001b[0;34m\u001b[0m\u001b[0;34m\u001b[0m\u001b[0m\n",
      "\u001b[0;31mNameError\u001b[0m: name 'keypad' is not defined"
     ]
    }
   ],
   "source": [
    "print(\"Raw matrix (list of lists): \")\n",
    "print(keypad)\n",
    "print(\"Matrix printed using nested for loop iteration:\")\n",
    "print_matrix1(keypad)\n",
    "print()"
   ]
  },
  {
   "cell_type": "code",
   "execution_count": 3,
   "metadata": {},
   "outputs": [
    {
     "name": "stdout",
     "output_type": "stream",
     "text": [
      "1 2 3 \n",
      "4 5 6 \n",
      "7 8 9 \n",
      "  0   \n"
     ]
    }
   ],
   "source": [
    "def print_matrix2(matrix):\n",
    "    for row in matrix:  # Iterates through each \"row\" of matrix. Row is a dummy variable, it could technically be anything. It iterates through each value of matrix and each value is it's own list. in this syntax the list is stored in \"row\".\n",
    "        for col in row:  # Iterates through each value in row. Again col, column, is a dummy variable. Each value in row is stored in col.\n",
    "            print(col, end=\" \") # Same as 1\n",
    "        print() # Same as 1\n",
    "\n",
    "print_matrix2(keypad)"
   ]
  },
  {
   "cell_type": "markdown",
   "metadata": {},
   "source": [
    "### More Functions\n",
    "Try to find another way to print the matrix. Only complete one of the two (unless you'd like to do both). Below is a hint"
   ]
  },
  {
   "cell_type": "code",
   "execution_count": 32,
   "metadata": {},
   "outputs": [
    {
     "name": "stdout",
     "output_type": "stream",
     "text": [
      "['apples', 'bananas', 'grapes']\n",
      "apples bananas grapes\n",
      "['apples', 'bananas', 'grapes', 'apples', 'bananas', 'grapes', 'apples', 'bananas', 'grapes']\n"
     ]
    }
   ],
   "source": [
    "fruit = [\"apples\", \"bananas\", \"grapes\"]\n",
    "print(fruit)\n",
    "print(*fruit) # Multiplies one list several times, found out on the wikibooks page for python programming\n",
    "print(3*fruit)"
   ]
  },
  {
   "cell_type": "code",
   "execution_count": 7,
   "metadata": {},
   "outputs": [
    {
     "name": "stdout",
     "output_type": "stream",
     "text": [
      "1 2 3\n",
      "4 5 6\n",
      "7 8 9\n",
      "  0  \n"
     ]
    }
   ],
   "source": [
    "def print_matrix3(m):\n",
    "    rows = [\" \".join(str(i) for i in row) for row in m]\n",
    "    print(\"\\n\".join(rows))\n",
    "\n",
    "print_matrix3(keypad)"
   ]
  },
  {
   "cell_type": "markdown",
   "metadata": {},
   "source": [
    "Alternatively, find a way to print the matrix using the iter() function you already learned. Or use both!"
   ]
  },
  {
   "cell_type": "code",
   "execution_count": 6,
   "metadata": {},
   "outputs": [],
   "source": [
    "def print_matrix4(matrix):\n",
    "    code = \"your code goes here\""
   ]
  },
  {
   "cell_type": "code",
   "execution_count": 25,
   "metadata": {},
   "outputs": [
    {
     "name": "stdout",
     "output_type": "stream",
     "text": [
      "` 1 2 3 4 5 6 7 8 9 0 - = \n",
      "Q W E R T Y U I O P [ ] \n",
      "A S D F G H J K L ; ' \n",
      "Z X C V B N M , . / \n"
     ]
    }
   ],
   "source": [
    "keyboard = [[\"`\", 1, 2, 3, 4, 5, 6, 7, 8, 9, 0, \"-\", \"=\"],\n",
    "            [\"Q\", \"W\", \"E\", \"R\", \"T\", \"Y\", \"U\", \"I\", \"O\", \"P\", \"[\", \"]\"],\n",
    "            [\"A\", \"S\", \"D\", \"F\", \"G\", \"H\", \"J\", \"K\", \"L\", \";\", \"'\"],\n",
    "            [\"Z\", \"X\", \"C\", \"V\", \"B\", \"N\", \"M\", \",\", \".\", \"/\"]]\n",
    "\n",
    "for i in range(len(keyboard)):  \n",
    "        for j in range(len(keyboard[i])):\n",
    "            print(keyboard[i][j], end=\" \")\n",
    "        print()"
   ]
  },
  {
   "cell_type": "code",
   "execution_count": 22,
   "metadata": {},
   "outputs": [
    {
     "name": "stdout",
     "output_type": "stream",
     "text": [
      "<built-in method upper of str object at 0x7ff7b034b170>\n"
     ]
    }
   ],
   "source": []
  },
  {
   "cell_type": "markdown",
   "metadata": {},
   "source": [
    "Print what month you were born and how old you are by iterating through the keyboard (don't just write a string)."
   ]
  },
  {
   "cell_type": "code",
   "execution_count": 45,
   "metadata": {},
   "outputs": [
    {
     "name": "stdout",
     "output_type": "stream",
     "text": [
      "` 1 2 3 4 5 6 7 8 9 0 - = \n",
      "Q W E R T Y U I O P [ ] \n",
      "A S D F G H J K L ; ' \n",
      "Z X C V B N M , . / \n",
      "\n",
      " /\n"
     ]
    }
   ],
   "source": [
    "keyboard = [[\"`\", 1, 2, 3, 4, 5, 6, 7, 8, 9, 0, \"-\", \"=\"],\n",
    "            [\"Q\", \"W\", \"E\", \"R\", \"T\", \"Y\", \"U\", \"I\", \"O\", \"P\", \"[\", \"]\"],\n",
    "            [\"A\", \"S\", \"D\", \"F\", \"G\", \"H\", \"J\", \"K\", \"L\", \";\", \"'\"],\n",
    "            [\"Z\", \"X\", \"C\", \"V\", \"B\", \"N\", \"M\", \",\", \".\", \"/\"]]\n",
    "date = \"05/08/2005\"\n",
    "datelist = []\n",
    "for i in date:\n",
    "    datelist.append(i)\n",
    "\n",
    "for i in range(len(keyboard)):  \n",
    "        for j in range(len(keyboard[i])):\n",
    "            print(keyboard[i][j], end=\" \")\n",
    "        print()\n",
    "\n",
    "string = \"\"\n",
    "for row in keyboard:\n",
    "    for key in row:\n",
    "        if key in datelist:\n",
    "            string += key\n",
    "print(\"\\n\", string)"
   ]
  },
  {
   "cell_type": "markdown",
   "metadata": {},
   "source": [
    "### Challenge\n",
    "Change all of the letters that you DIDN'T print above to spaces, \" \", and then print the full keyboard. (the things you did print should remain in the same spot)\n",
    "\n",
    "Alternative Challenge: If you would prefer, animate it using some form of delay so it flashes one of your letters at a time on the board in order and repeats. (this one may be slightly more intuitive)\n",
    "\n",
    "DO NOT HARD CODE THIS.\n",
    "Don't make it harder on yourself, iterate through, make it abstract so it can be used dynamically. You should be able to input any string and your code should work."
   ]
  },
  {
   "cell_type": "code",
   "execution_count": 28,
   "metadata": {},
   "outputs": [
    {
     "name": "stdout",
     "output_type": "stream",
     "text": [
      "                          \n",
      "  W                     \n",
      "A S D                 \n",
      "                    \n"
     ]
    }
   ],
   "source": [
    "keyboard = [[\"`\", 1, 2, 3, 4, 5, 6, 7, 8, 9, 0, \"-\", \"=\"],\n",
    "            [\"Q\", \"W\", \"E\", \"R\", \"T\", \"Y\", \"U\", \"I\", \"O\", \"P\", \"[\", \"]\"],\n",
    "            [\"A\", \"S\", \"D\", \"F\", \"G\", \"H\", \"J\", \"K\", \"L\", \";\", \"'\"],\n",
    "            [\"Z\", \"X\", \"C\", \"V\", \"B\", \"N\", \"M\", \",\", \".\", \"/\"]]\n",
    "\n",
    "namelist = []\n",
    "name = input(\"What is your name?\")\n",
    "name = name.upper()\n",
    "for i in name:\n",
    "    namelist.append(i)\n",
    "\n",
    "for i in range(len(keyboard)):  \n",
    "        for j in range(len(keyboard[i])):\n",
    "            if keyboard[i][j] in namelist:\n",
    "                print(keyboard[i][j], end=\" \")\n",
    "            else:\n",
    "                print(\" \", end=\" \") \n",
    "        print()"
   ]
  },
  {
   "cell_type": "markdown",
   "metadata": {},
   "source": [
    "If you get stuck you can just make a picture with an array and print it (I will grade based on how good it looks)\n",
    "\n",
    "I do expect an attempt so write some code to show you tried the challenge. "
   ]
  }
 ],
 "metadata": {
  "kernelspec": {
   "display_name": "Python 3.9.15 ('base')",
   "language": "python",
   "name": "python3"
  },
  "language_info": {
   "codemirror_mode": {
    "name": "ipython",
    "version": 3
   },
   "file_extension": ".py",
   "mimetype": "text/x-python",
   "name": "python",
   "nbconvert_exporter": "python",
   "pygments_lexer": "ipython3",
   "version": "3.9.15 (main, Nov 24 2022, 14:31:59) \n[GCC 11.2.0]"
  },
  "orig_nbformat": 4,
  "vscode": {
   "interpreter": {
    "hash": "586ad1ed5c97141e2437e681efbf1ec0adcd17d830cf5af2ca3d2819e743e158"
   }
  }
 },
 "nbformat": 4,
 "nbformat_minor": 2
}
