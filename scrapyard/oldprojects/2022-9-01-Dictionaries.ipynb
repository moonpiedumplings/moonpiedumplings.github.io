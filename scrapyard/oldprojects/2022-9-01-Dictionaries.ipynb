{
 "cells": [
  {
   "cell_type": "raw",
   "metadata": {},
   "source": [
    "---\n",
    "output-file: 2022-9-01-dictionaries.html\n",
    "title: Fun with dictionaries\n",
    "execute:\n",
    "  freeze: auto\n",
    "\n",
    "---\n",
    "\n"
   ]
  },
  {
   "cell_type": "code",
   "execution_count": 6,
   "metadata": {},
   "outputs": [
    {
     "name": "stdout",
     "output_type": "stream",
     "text": [
      "The smartest players on the field\n"
     ]
    }
   ],
   "source": [
    "# First attempts at a simple question and answer program using dictionaries.\n",
    "\n",
    "f = {\"players\":\"11 players on the field\",\n",
    "    \"lineman\": \"The smartest players on the field\",\n",
    "    \"quarterback\": \"The dude who throws the ball\"\n",
    "    \"linebacker\": \"They bliz a lot\"\n",
    "}\n",
    "print(f[input(\"query?\")])\n",
    "\n",
    "# This could probably be expanded more. But it doesn't include interation which the assignment requires."
   ]
  },
  {
   "cell_type": "code",
   "execution_count": 16,
   "metadata": {},
   "outputs": [
    {
     "name": "stdout",
     "output_type": "stream",
     "text": [
      "Khalid Farah \n",
      "\n",
      "Jeffrey Fonseca \n",
      "\n"
     ]
    }
   ],
   "source": [
    "players = []\n",
    "players.append({\n",
    "    \"name\": \"Khalid Farah\",\n",
    "    \"weight\": 195, #Weight is in pounds\n",
    "    \"positions\": [\"linebacker\"]\n",
    "})\n",
    "\n",
    "players.append({\n",
    "    \"name\": \"Jeffrey Fonseca\",\n",
    "    \"weight\": 200,\n",
    "    \"positions\": [\"Offensive lineman\", \"Defensive Lineman\"]\n",
    "})\n",
    "\n",
    "for p in players:\n",
    "    print(p[\"name\"], \"\\n\")\n",
    "\n",
    "# technically, this is all I need to complete the assignment. However, I may do more."
   ]
  },
  {
   "cell_type": "code",
   "execution_count": 17,
   "metadata": {},
   "outputs": [
    {
     "name": "stdout",
     "output_type": "stream",
     "text": [
      "weight =  195 pounds \n",
      "\n",
      "Positions played: ['linebacker']\n"
     ]
    }
   ],
   "source": [
    "a = input(\"Which player's stats do you want?\")\n",
    "for p in players:\n",
    "    if p[\"name\"] == a:\n",
    "        print(\"weight = \",p[\"weight\"],\"pounds \\n\")\n",
    "        print(\"Positions played:\", p[\"positions\"])"
   ]
  },
  {
   "cell_type": "code",
   "execution_count": 22,
   "metadata": {},
   "outputs": [
    {
     "name": "stdout",
     "output_type": "stream",
     "text": [
      "{'test': 'value'}\n"
     ]
    }
   ],
   "source": [
    "dict = {}\n",
    "dict.update({\"test\":\"value\"})\n",
    "print(dict)\n",
    "\n",
    "# finally got this working. Why was this so difficult to figure out."
   ]
  },
  {
   "cell_type": "code",
   "execution_count": 23,
   "metadata": {},
   "outputs": [
    {
     "name": "stdout",
     "output_type": "stream",
     "text": [
      "{'Khalid Farah': {'name': 'Khalid Farah', 'weight': 195, 'positions': ['linebacker']}, 'Jeffrey Fonseca': {'name': 'Jeffrey Fonseca', 'weight': 200, 'positions': ['Offensive lineman', 'Defensive Lineman']}}\n"
     ]
    }
   ],
   "source": [
    "pindex = {}\n",
    "\n",
    "for p in players:\n",
    "    pindex.update({p[\"name\"]: p})\n",
    "\n",
    "print(pindex)\n",
    "\n",
    "# This program creates an index for the list,to make searching faster. "
   ]
  },
  {
   "cell_type": "code",
   "execution_count": 27,
   "metadata": {},
   "outputs": [
    {
     "name": "stdout",
     "output_type": "stream",
     "text": [
      "weight= 200 pounds\n",
      "\n",
      "positions= ['Offensive lineman', 'Defensive Lineman']\n"
     ]
    }
   ],
   "source": [
    "# I can recreate the above program  (playerinfo) without the for loop,just call on the index. \n",
    "# Right now there is no speed difference, but when working with bigger stores of info, for loops through are tedious\n",
    "\n",
    "a = input(\"player name?\")\n",
    "\n",
    "print(\"weight=\",pindex[a][\"weight\"],\"pounds\\n\")\n",
    "print(\"positions=\",pindex[a][\"positions\"])\n",
    "\n",
    "# maybe creating dictionary of dictionaries would have been easier..."
   ]
  }
 ],
 "metadata": {
  "kernelspec": {
   "display_name": "Python 3.9.7 ('base')",
   "language": "python",
   "name": "python3"
  },
  "language_info": {
   "codemirror_mode": {
    "name": "ipython",
    "version": 3
   },
   "file_extension": ".py",
   "mimetype": "text/x-python",
   "name": "python",
   "nbconvert_exporter": "python",
   "pygments_lexer": "ipython3",
   "version": "3.9.12"
  },
  "orig_nbformat": 4,
  "vscode": {
   "interpreter": {
    "hash": "586ad1ed5c97141e2437e681efbf1ec0adcd17d830cf5af2ca3d2819e743e158"
   }
  }
 },
 "nbformat": 4,
 "nbformat_minor": 2
}
