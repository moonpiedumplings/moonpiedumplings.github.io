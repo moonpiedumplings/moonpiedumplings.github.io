{
 "cells": [
  {
   "cell_type": "raw",
   "metadata": {},
   "source": [
    "---\n",
    "aliases:\n",
    "- /2022/10/09/Stocks API fun\n",
    "date: '2022-10-09'\n",
    "output-file: 2022-10-09-stocks api fun.html\n",
    "execute:\n",
    "  freeze: auto\n",
    "\n",
    "---\n",
    "\n"
   ]
  },
  {
   "cell_type": "markdown",
   "metadata": {},
   "source": [
    "- toc: true\n",
    "- title: messing around with stocks\n",
    "- tags: [api]\n",
    "- categories [python]"
   ]
  },
  {
   "cell_type": "markdown",
   "metadata": {},
   "source": [
    "Becuase of our unorthodox choice of api, before running, you must install the required library:\n",
    "\n",
    "`pip install polygon-api-client`"
   ]
  },
  {
   "cell_type": "code",
   "execution_count": 2,
   "metadata": {},
   "outputs": [],
   "source": [
    "# libraries\n",
    "\n",
    "from polygon import RESTClient\n",
    "from typing import cast\n",
    "from urllib3 import HTTPResponse\n",
    "\n",
    "# API key for the stocks\n",
    "\n",
    "client = RESTClient(\"4smt0M_ePY6rylHRcP5t3v3pa7WS_pB9\") # api key in quotes "
   ]
  },
  {
   "cell_type": "code",
   "execution_count": 9,
   "metadata": {},
   "outputs": [
    {
     "name": "stdout",
     "output_type": "stream",
     "text": [
      "2022-10-10\n",
      "DailyOpenCloseAgg(after_hours=140.92, close=140.42, from_='2022-10-10', high=141.89, low=138.5729, open=140.42, pre_market=139.95, status='OK', symbol='AAPL', volume=74899002.0, otc=None)\n",
      "AAPL\n",
      "140.42\n"
     ]
    }
   ],
   "source": [
    "\n",
    "str = input(\"What stock would you like?\")\n",
    "date = input(\"Date? (Please formate it in as YYYY-MM-DD\")\n",
    "print(date)\n",
    "data = client.get_daily_open_close_agg(str, date)\n",
    "\n",
    "\n",
    "print(data)\n",
    "\n",
    "print(data.symbol)\n",
    "\n",
    "print(data.open)"
   ]
  },
  {
   "cell_type": "code",
   "execution_count": 3,
   "metadata": {},
   "outputs": [
    {
     "name": "stdout",
     "output_type": "stream",
     "text": [
      "[Agg(open=174.57, high=178.49, low=174.44, close=178.44, volume=76545983.0, vwap=177.4855, timestamp=1649044800000, transactions=630374, otc=None)]\n"
     ]
    }
   ],
   "source": [
    "from polygon import RESTClient\n",
    "\n",
    "aggs = client.get_aggs(\"AAPL\", 1, \"day\", \"2022-10-12\", \"2022-04-04\")\n",
    "print(aggs)"
   ]
  }
 ],
 "metadata": {
  "kernelspec": {
   "display_name": "Python 3.9.12 ('base')",
   "language": "python",
   "name": "python3"
  },
  "language_info": {
   "codemirror_mode": {
    "name": "ipython",
    "version": 3
   },
   "file_extension": ".py",
   "mimetype": "text/x-python",
   "name": "python",
   "nbconvert_exporter": "python",
   "pygments_lexer": "ipython3",
   "version": "3.9.12"
  },
  "orig_nbformat": 4,
  "vscode": {
   "interpreter": {
    "hash": "586ad1ed5c97141e2437e681efbf1ec0adcd17d830cf5af2ca3d2819e743e158"
   }
  }
 },
 "nbformat": 4,
 "nbformat_minor": 2
}
