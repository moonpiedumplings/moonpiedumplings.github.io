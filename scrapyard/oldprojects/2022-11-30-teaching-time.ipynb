{
 "cells": [
  {
   "cell_type": "raw",
   "metadata": {},
   "source": [
    "---\n",
    "aliases:\n",
    "- /notebook/2022/11/30/teaching-time\n",
    "badges: false\n",
    "categories:\n",
    "- notebook\n",
    "date: '2022-11-30'\n",
    "description: Welcome to the World of Booleans and Conditionals!\n",
    "output-file: 2022-11-30-teaching-time.html\n",
    "title: 5-7 Lesson and HW\n",
    "toc: false\n",
    "execute:\n",
    "  freeze: auto\n",
    "\n",
    "---\n",
    "\n"
   ]
  },
  {
   "cell_type": "markdown",
   "metadata": {},
   "source": [
    "# Lesson Overview: 3.5 - Boolean Expressions\n",
    "- Here we will focus on:\n",
    "    - basics of Booleans\n",
    "    - its relationship with binary\n",
    "    - relational operators\n",
    "    - Logical Operators\n",
    "\n",
    "## What is a boolean?\n",
    "- A data type with two possible values: true or false\n",
    "\n",
    "## Boolean and Binary\n",
    "So similar yet so different.\n",
    "- Boolean math and binary notation both use the same two ciphers: 1 and 0.\n",
    "- However, please note that Boolean quantities are restricted to a singlular bit (can only be either 1, or 0)\n",
    "- On the otherhand, binary numbers may be composed of many bits adding up in place-weighted form to any finite value, or size\n",
    "\n",
    "## Must Knows\n",
    "- A Boolean value is either TRUE or FALSE\n",
    "- The AP Exam will provide you with a reference sheet with the operators below.\n",
    "\n",
    "![](ghtop_images/operators.png)\n",
    "\n",
    "- A few ways these operators could be used...\n",
    "\n",
    "![](ghtop_images/operators2.png)"
   ]
  },
  {
   "cell_type": "markdown",
   "metadata": {},
   "source": [
    "## Relational Operators in action\n",
    "- How could you use operators to determine if the average of 5 grades is greater than 80?"
   ]
  },
  {
   "cell_type": "markdown",
   "metadata": {},
   "source": [
    "\n",
    "- With the grades below, use a boolean expression to determine if the average grade is above an 80 and print the result (True or False)\n",
    "- Try it in as few steps as possible!\n",
    "- Be creative! There are obviously TONS of different practical solutions"
   ]
  },
  {
   "cell_type": "code",
   "execution_count": 1,
   "metadata": {},
   "outputs": [
    {
     "name": "stdout",
     "output_type": "stream",
     "text": [
      "less than 90\n"
     ]
    }
   ],
   "source": [
    "grade1 = 90\n",
    "grade2 = 65\n",
    "grade3 = 60\n",
    "grade4 = 75\n",
    "grade5 = 95\n",
    "\n",
    "avg = (grade1 + grade2 + grade3 + grade4 + grade5) / 5\n",
    "\n",
    "if avg > 80:\n",
    "    print(\"true\")\n",
    "else:\n",
    "    print(\"less than 80\")"
   ]
  },
  {
   "cell_type": "markdown",
   "metadata": {},
   "source": [
    "## The versatility of relational operators:"
   ]
  },
  {
   "cell_type": "code",
   "execution_count": 2,
   "metadata": {},
   "outputs": [
    {
     "name": "stdout",
     "output_type": "stream",
     "text": [
      "100 == 100: True\n",
      "Hello == Adios: False\n",
      "Hello != Adios: True\n",
      "Hello == Hola: True\n",
      "5>=4: True\n",
      "\n",
      "['a','b','c'] > ['x','y','z']: False\n",
      "[1,2,3,5] > [1,2,3,4]: True\n",
      "[1,2,3,5] < [1,2,3,4]: False\n",
      "[1,2,3,5] == [1,2,3,4]: False\n"
     ]
    }
   ],
   "source": [
    "print(\"100 == 100:\",100==100)\n",
    "print(\"Hello == Adios:\",\"greeting\"==\"farewell\")\n",
    "print(\"Hello != Adios:\",\"greeting\"!=\"farewell\")\n",
    "print(\"Hello == Hola:\",\"greeting\"==\"greeting\")\n",
    "print(\"5>=4:\", 5>=4)\n",
    "print ('')\n",
    "\n",
    "# Notice that relational operators can even work on lists!\n",
    "# For lists, the relational operator compares each respective component until an answer is derived\n",
    "\n",
    "print(\"['a','b','c'] > ['x','y','z']:\", ['a','b','c'] > ['x','y','z'])\n",
    "print(\"[1,2,3,5] > [1,2,3,4]:\", [1,2,3,5] > [1,2,3,4])\n",
    "print(\"[1,2,3,5] < [1,2,3,4]:\", [1,2,3,5] < [1,2,3,4])\n",
    "print(\"[1,2,3,5] == [1,2,3,4]:\", [1,2,3,5] == [1,2,3,4])"
   ]
  },
  {
   "cell_type": "markdown",
   "metadata": {},
   "source": [
    "## Logical Operators!\n",
    "These types of operators don't necessarily deal with equivalent/non-equivalent values, but they rather work on operands to produce a singular boolean result\n",
    "- AND : returns TRUE if the operands around it are TRUE\n",
    "- OR : returns TRUE if at least one operand is TRUE\n",
    "- NOT : returns TRUE if the following boolean is FALSE"
   ]
  },
  {
   "cell_type": "markdown",
   "metadata": {},
   "source": [
    "#### Turn the following arithmetic phrases into either True or False statements as indicated USING LOGICAL OPERATORS"
   ]
  },
  {
   "cell_type": "code",
   "execution_count": 6,
   "metadata": {},
   "outputs": [
    {
     "name": "stdout",
     "output_type": "stream",
     "text": [
      "1 > 2 or 5 < 12:\n",
      "True\n",
      "24 > 8:\n",
      "stuff\n",
      "10 > 20:\n"
     ]
    }
   ],
   "source": [
    "# Output TRUE  using OR\n",
    "print(\"1 > 2 or 5 < 12:\",)\n",
    "# Output TRUE  using OR ^\n",
    "\n",
    "if 1 < 2 or 5 < 12:\n",
    "    print(\"True\")\n",
    "\n",
    "# Output FALSE using NOT\n",
    "print(\"24 > 8:\",)\n",
    "if not 24 > 25:\n",
    "    print(\"stuff\")\n",
    "\n",
    "# Output FALSE using AND\n",
    "print(\"10 > 20:\",)\n",
    "# how do this?"
   ]
  },
  {
   "cell_type": "markdown",
   "metadata": {},
   "source": [
    "# Lesson Overview: 3.6 - Conditionals"
   ]
  },
  {
   "cell_type": "markdown",
   "metadata": {},
   "source": [
    "## Focusing on Selection\n",
    "**Selection**: uses a condition that evaluates to <i>true</i> or <i>false</i>\n",
    "\n",
    "Selection determines which part of an algorithm are executed based on a condition being true or false\n",
    "\n",
    "**Algorithm** is a finite set of instructions that accomplish a specific task\n",
    "![](ghtop_images/conditionals.png)"
   ]
  },
  {
   "cell_type": "markdown",
   "metadata": {},
   "source": [
    "## Conditional Statements\n",
    "Also known as \"if statements\"\n",
    "\n",
    "Can be seen as if statements or if blocks\n",
    "\n",
    "![](ghtop_images/conditionals2.png)\n",
    "\n",
    "Can also be seen as if else statements or if else-blocks\n",
    "![](ghtop_images/conditionals3.png)"
   ]
  },
  {
   "cell_type": "code",
   "execution_count": 35,
   "metadata": {},
   "outputs": [
    {
     "name": "stdout",
     "output_type": "stream",
     "text": [
      "x is greater than y\n"
     ]
    }
   ],
   "source": [
    "x = 20\n",
    "y = 10\n",
    "if x > y:\n",
    "    print(\"x is greater than y\")"
   ]
  },
  {
   "cell_type": "code",
   "execution_count": 36,
   "metadata": {},
   "outputs": [
    {
     "name": "stdout",
     "output_type": "stream",
     "text": [
      "x is greater than y\n"
     ]
    }
   ],
   "source": [
    "x = 20\n",
    "y = 10\n",
    "if x > y:\n",
    "    print(\"x is greater than y\")\n",
    "else:\n",
    "    print(\"x is not greater than y\")"
   ]
  },
  {
   "cell_type": "markdown",
   "metadata": {},
   "source": [
    "## Participation \n",
    "\n",
    "-Calculate the total sum of two numbers, if it is equal to 200, print 200, if otherwise, print the sum."
   ]
  },
  {
   "cell_type": "code",
   "execution_count": null,
   "metadata": {},
   "outputs": [],
   "source": [
    "num1 =\n",
    "num2 =\n",
    "sum = num1 + num2"
   ]
  },
  {
   "cell_type": "markdown",
   "metadata": {},
   "source": [
    "## Lesson Overview - 3.7 Nested Conditionals"
   ]
  },
  {
   "cell_type": "markdown",
   "metadata": {},
   "source": [
    "- Nested conditional statements consist of conditional statements within other conditional statements\n",
    "- Utilizes \"if else\" statements within \"if else\" statements"
   ]
  },
  {
   "cell_type": "markdown",
   "metadata": {},
   "source": [
    "- Basics of a nested conditional:\n",
    "![](ghtop_images/martin1.jpg)"
   ]
  },
  {
   "cell_type": "markdown",
   "metadata": {},
   "source": [
    "- Block Coding Visual of Nested Conditionals:\n",
    "![](ghtop_images/martin2.jpg)\n",
    "- Example Psuedocode of Nested Conditional Statements\n",
    "![](ghtop_images/martin3.jpg)\n",
    "\n",
    "# Analyzing Code Walkthrough\n",
    "- Psuedocode to the left, block code to the right\n",
    "- Approach the problem by going through each condition one at a time\n",
    "    - Decide which ones are false to skip and which ones are true to execute\n",
    "\n",
    "- You Try:\n",
    "![](ghtop_images/martin4.jpg)"
   ]
  },
  {
   "cell_type": "code",
   "execution_count": null,
   "metadata": {
    "vscode": {
     "languageId": "javascript"
    }
   },
   "outputs": [],
   "source": [
    "score = 82\n",
    "if (score >= 90)\n",
    "{\n",
    "    console.log(\"You got an A, congrats!\")\n",
    "}\n",
    "else\n",
    "{\n",
    "    if (score >= 75)\n",
    "    {\n",
    "        console.log(\"Please come to retake up to a 90 next week at tutorial!\")\n",
    "    }\n",
    "    else\n",
    "    {\n",
    "        console.log(\"You have detention!\")\n",
    "    }\n",
    "}"
   ]
  },
  {
   "cell_type": "code",
   "execution_count": null,
   "metadata": {
    "vscode": {
     "languageId": "javascript"
    }
   },
   "outputs": [],
   "source": [
    "protein = 25\n",
    "carbs = 36\n",
    "sugar = 11\n",
    "if (carbs >= 55 || protein <= 20 || sugar >= 15)\n",
    "{\n",
    "    console.log(\"Your lunch is too unhealthy, please pick a new one\")\n",
    "}\n",
    "else\n",
    "{\n",
    "    if (carbs < 35 || protein < 25)\n",
    "    {\n",
    "    console.log (\"This lunch is alright but try to add some more carbs or protein\")\n",
    "    }\n",
    "    else \n",
    "    {\n",
    "    if (sugar >= 11)\n",
    "    {\n",
    "    console.log (\"Looks great but lets see if we can cut down on sugar, we don't want diabetes!\")\n",
    "    }\n",
    "    else\n",
    "    {\n",
    "        console.log (\"Amazing, you created a healthy lunch!!!\")\n",
    "    }\n",
    "    }\n",
    "}"
   ]
  },
  {
   "cell_type": "markdown",
   "metadata": {},
   "source": [
    "## Writing Nested Code Activity\n",
    "1. Write a program that fits these conditions using nested conditionals:\n",
    "    - If a person has at least 8 hours, they are experienced\n",
    "    - If a person is experienced their salary is 90k, if they have ten hours or above their salary 150k\n",
    "    - If a person is inexperienced their salary is always 50k\n",
    "    - print the salary of the person at the end and whether they are experienced or not\n",
    "\n",
    "## Hacks Assignments:\n",
    "**Conditionals**:\n",
    "\n",
    "- Write a program that fits these conditions using nested conditionals:\n",
    "    - If the product is expired, print \"this product is no good\"\n",
    "    - If the cost is above 50 dollars, and the product isn't expired, print \"this product is too expensive\"\n",
    "    - If the cost is 25 dollars but under 50, and the product isn't expired, print \"this is a regular product\"\n",
    "    - If the cost is under 25 dollars, print \"this is a cheap product\""
   ]
  },
  {
   "cell_type": "code",
   "execution_count": 11,
   "metadata": {},
   "outputs": [
    {
     "name": "stdout",
     "output_type": "stream",
     "text": [
      "this product is too expensive\n",
      "this is a regular product\n"
     ]
    }
   ],
   "source": [
    "# Feel free to use JS or Python - we won't discriminate whilst grading you!\n",
    "# Here is a python template for you to use.\n",
    "\n",
    "product = {\n",
    "    \"expired\":\"no\",\n",
    "    \"cost\": 29,\n",
    "}\n",
    "\n",
    "expired = \"no\"\n",
    "cost = 300\n",
    "\n",
    "if expired == \"no\":\n",
    "    if cost > 50:\n",
    "        print(\"this product is too expensive\")\n",
    "        exit\n",
    "    if cost > 25:\n",
    "        print(\"this is a regular product\")\n",
    "        exit\n",
    "else:\n",
    "    print(\"this product is no good\")\n",
    "if cost < 25:\n",
    "    print(\"this is a cheap product\") #I am following the instructions exactly, it says to print this regardless of the expired status"
   ]
  },
  {
   "cell_type": "markdown",
   "metadata": {},
   "source": [
    "**Boolean/Conditionals**:\n",
    "- Create a multiple choice quiz that ...\n",
    "    - uses Boolean expressions\n",
    "    - uses Logical operators\n",
    "    - uses Conditional statements\n",
    "    - prompts quiz-taker with multiple options (only one can be right)\n",
    "    - has at least 3 questions\n",
    "- Points will be awarded for creativity, intricacy, and how well Boolean/Binary concepts have been intertwined"
   ]
  },
  {
   "cell_type": "code",
   "execution_count": 1,
   "metadata": {},
   "outputs": [
    {
     "name": "stdout",
     "output_type": "stream",
     "text": [
      "Question1 \n",
      "\n",
      "1 : anwser\n",
      "2 : answer2\n",
      "3 : answer3\n",
      "\n",
      "\n",
      "Who is the best teacher \n",
      "\n",
      "1 : Jeffrey Fonseca\n",
      "2 : Mr. Mort\n",
      "3 : someone else\n",
      "\n",
      "\n",
      "You got 2 questions right!\n"
     ]
    }
   ],
   "source": [
    "qa = [\n",
    "    [\"Question1\", [\"correctanwser\", \"answer2\", \"answer3\"]],\n",
    "    [\"Who is the best teacher\", [\"Jeffrey Fonseca\", \"correctMr. Mort\", \"someone else\"]]\n",
    "]\n",
    "\n",
    "correct = 0\n",
    "\n",
    "for q in qa:\n",
    "    print(q[0], \"\\n\")\n",
    "    for itr,a in enumerate(q[1]):\n",
    "        if q[1][itr][0:7] == \"correct\":\n",
    "            print(itr +1, \":\",q[1][itr][7:])\n",
    "            right = itr\n",
    "        else:\n",
    "            print(itr +1, \":\",q[1][itr])\n",
    "    answer = int(input(\"select the answer\"))\n",
    "    if answer - 1 == right:\n",
    "        correct +=1\n",
    "    print(\"\\n\")\n",
    "\n",
    "\n",
    "print(\"You got\",correct,\"questions right!\")"
   ]
  }
 ],
 "metadata": {
  "kernelspec": {
   "display_name": "Python 3.9.15 ('base')",
   "language": "python",
   "name": "python3"
  },
  "language_info": {
   "codemirror_mode": {
    "name": "ipython",
    "version": 3
   },
   "file_extension": ".py",
   "mimetype": "text/x-python",
   "name": "python",
   "nbconvert_exporter": "python",
   "pygments_lexer": "ipython3",
   "version": "3.9.15"
  },
  "orig_nbformat": 4,
  "vscode": {
   "interpreter": {
    "hash": "586ad1ed5c97141e2437e681efbf1ec0adcd17d830cf5af2ca3d2819e743e158"
   }
  }
 },
 "nbformat": 4,
 "nbformat_minor": 2
}
